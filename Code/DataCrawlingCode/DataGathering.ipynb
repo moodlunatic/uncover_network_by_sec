{
 "cells": [
  {
   "cell_type": "markdown",
   "metadata": {},
   "source": [
    "# Data Gathering\n",
    "In this part, we will gather data from SEC site.Firstly, we will import some packages."
   ]
  },
  {
   "cell_type": "code",
   "execution_count": 11,
   "metadata": {},
   "outputs": [],
   "source": [
    "from bs4 import BeautifulSoup\n",
    "import requests\n",
    "from datetime import datetime \n",
    "import time\n",
    "import urllib\n",
    "from urllib.request import urlopen\n",
    "import pandas as pd"
   ]
  },
  {
   "cell_type": "code",
   "execution_count": 12,
   "metadata": {},
   "outputs": [],
   "source": [
    "headers = {'User-Agent':'Mozilla/5.0 (Windows NT 6.1; WOW64; rv:23.0) Gecko/20100101 Firefox/23.0'}"
   ]
  },
  {
   "cell_type": "markdown",
   "metadata": {},
   "source": [
    "##  Define get_13F (). \n",
    "By this function ,we can get the searched results by give some infromation , i.e. CIK, fromDate,toDate to find 13F-HR in a period.\n",
    "There will be a time lag and we have to extend the time span to find the report. For example, we have to chose 2021-01-01 to 2021-2-28 to get the report of the fourth quarter of 2020.\n",
    "This function will return a url of all the information of the report."
   ]
  },
  {
   "cell_type": "code",
   "execution_count": 13,
   "metadata": {},
   "outputs": [],
   "source": [
    "def get_13F(cik,fromDate,toDate):\n",
    "    url_13F='https://sec.report/Document/Search/?formType=13F-HR&queryCik='+str(cik)+'&fromDate='+str(fromDate)+'&toDate='+str(toDate)+'#results'\n",
    "    req_13F = urllib.request.Request(url=url_13F , headers=headers)\n",
    "    html_13F=urllib.request.urlopen(req_13F).read()\n",
    "    soup_13F = BeautifulSoup(html_13F, \"lxml\")\n",
    "    for a in soup_13F.find_all('a', href=True,string=\" 13F-HR 13F-HR\"):\n",
    "        url_of_13F=a['href']\n",
    "    return url_of_13F"
   ]
  },
  {
   "cell_type": "code",
   "execution_count": 14,
   "metadata": {},
   "outputs": [
    {
     "data": {
      "text/plain": [
       "'https://sec.report/Document/0001172661-21-001153/#primary_doc.xml'"
      ]
     },
     "execution_count": 14,
     "metadata": {},
     "output_type": "execute_result"
    }
   ],
   "source": [
    "ulr_13F=get_13F('0001350694','2021-05-01','2021-05-31')\n",
    "ulr_13F"
   ]
  },
  {
   "cell_type": "markdown",
   "metadata": {},
   "source": [
    "## Define get_xml() function\n",
    "The url gotten by get_xml() will contain so many information and we want to get the xml file of 13F-HR.\n",
    "We have to find some urls and find the one which is a link of xml file."
   ]
  },
  {
   "cell_type": "code",
   "execution_count": 25,
   "metadata": {},
   "outputs": [],
   "source": [
    "def get_xml(ulr_13F):\n",
    "    req_xml = urllib.request.Request(url=ulr_13F , headers=headers)\n",
    "    html_xml=urllib.request.urlopen(req_xml).read()\n",
    "    soup2 = BeautifulSoup(html_xml, \"lxml\")\n",
    "    xml_url=[]\n",
    "    for table in soup2.findAll('table', {'class': 'table'}):\n",
    "        for td in table.findAll('td'):\n",
    "            for a in td.findAll('a'):\n",
    "                xml_url.append((a['href']))\n",
    "    for i in range(len(xml_url)):\n",
    "        if (xml_url[i].find('http')!=-1 and xml_url[i].find('.xml')!=-1 and xml_url[i].find('primary_doc')==-1 and xml_url[i].find('.html')==-1):\n",
    "            final_xml_url=xml_url[i]\n",
    "    return final_xml_url"
   ]
  },
  {
   "cell_type": "code",
   "execution_count": 16,
   "metadata": {},
   "outputs": [
    {
     "data": {
      "text/plain": [
       "'https://sec.report/Document/0001172661-21-001153/infotable.xml'"
      ]
     },
     "execution_count": 16,
     "metadata": {},
     "output_type": "execute_result"
    }
   ],
   "source": [
    "final_url=get_xml(ulr_13F)\n",
    "final_url"
   ]
  },
  {
   "cell_type": "markdown",
   "metadata": {},
   "source": [
    "## Define funtion \n",
    "We can combine the two function above to run the code in a process."
   ]
  },
  {
   "cell_type": "code",
   "execution_count": 17,
   "metadata": {},
   "outputs": [],
   "source": [
    "def xml_gather(cik,fromDate,toDate,filename):\n",
    "    ulr_13F=get_13F(cik,fromDate,toDate)\n",
    "    final_url=get_xml(ulr_13F)\n",
    "    get_xml_file(final_url,filename)"
   ]
  },
  {
   "cell_type": "markdown",
   "metadata": {},
   "source": [
    "### Define gathe file funtion\n",
    "After we get the url of xml file , we can parase it and save it for the network analysis."
   ]
  },
  {
   "cell_type": "code",
   "execution_count": 18,
   "metadata": {},
   "outputs": [],
   "source": [
    "def get_xml_file(finalUrl,filename):\n",
    "    req_file = urllib.request.Request(finalUrl , headers=headers)\n",
    "    html_file=urllib.request.urlopen(req_file).read()\n",
    "    soup_file = BeautifulSoup(html_file, \"xml\")\n",
    "    with open(filename, \"w\", encoding='utf-8') as file:\n",
    "        file.write(str(soup_file))\n",
    "    print(filename+\" has been saved\") "
   ]
  },
  {
   "cell_type": "markdown",
   "metadata": {},
   "source": [
    "### Select the invest companies to research, including CIK and name."
   ]
  },
  {
   "cell_type": "code",
   "execution_count": 19,
   "metadata": {},
   "outputs": [],
   "source": [
    "cik_list=['0001067983','0000019617','0001350694','0001037389','0001179392']\n",
    "fund_list=['BerkshireHathawayInc','Jpmorgan','BridgewaterAssociates','RENAISSANCE','TwoSigma']"
   ]
  },
  {
   "cell_type": "markdown",
   "metadata": {},
   "source": [
    "### Define a  function to get the downloading needs in a table."
   ]
  },
  {
   "cell_type": "code",
   "execution_count": 20,
   "metadata": {},
   "outputs": [],
   "source": [
    "def get_xml_table(ciks,fund_names,fromDate,toDate,year_quarter):\n",
    "    gather_xml_list={'cik':[],'fromDate':[],'toDate':[],'filename':[]}\n",
    "    for i in range(len(cik_list)):\n",
    "        gather_xml_list['cik'].append(cik_list[i])\n",
    "        gather_xml_list['fromDate'].append(fromDate)\n",
    "        gather_xml_list['toDate'].append(toDate)\n",
    "        gather_xml_list['filename'].append(fund_names[i]+year_quarter+'.xml')\n",
    "    return gather_xml_list"
   ]
  },
  {
   "cell_type": "markdown",
   "metadata": {},
   "source": [
    "# Get files of 2021 Q1."
   ]
  },
  {
   "cell_type": "code",
   "execution_count": 21,
   "metadata": {},
   "outputs": [
    {
     "data": {
      "text/html": [
       "<div>\n",
       "<style scoped>\n",
       "    .dataframe tbody tr th:only-of-type {\n",
       "        vertical-align: middle;\n",
       "    }\n",
       "\n",
       "    .dataframe tbody tr th {\n",
       "        vertical-align: top;\n",
       "    }\n",
       "\n",
       "    .dataframe thead th {\n",
       "        text-align: right;\n",
       "    }\n",
       "</style>\n",
       "<table border=\"1\" class=\"dataframe\">\n",
       "  <thead>\n",
       "    <tr style=\"text-align: right;\">\n",
       "      <th></th>\n",
       "      <th>cik</th>\n",
       "      <th>fromDate</th>\n",
       "      <th>toDate</th>\n",
       "      <th>filename</th>\n",
       "    </tr>\n",
       "  </thead>\n",
       "  <tbody>\n",
       "    <tr>\n",
       "      <th>0</th>\n",
       "      <td>0001067983</td>\n",
       "      <td>2021-05-01</td>\n",
       "      <td>2021-05-31</td>\n",
       "      <td>BerkshireHathawayInc-2021q1.xml</td>\n",
       "    </tr>\n",
       "    <tr>\n",
       "      <th>1</th>\n",
       "      <td>0000019617</td>\n",
       "      <td>2021-05-01</td>\n",
       "      <td>2021-05-31</td>\n",
       "      <td>Jpmorgan-2021q1.xml</td>\n",
       "    </tr>\n",
       "    <tr>\n",
       "      <th>2</th>\n",
       "      <td>0001350694</td>\n",
       "      <td>2021-05-01</td>\n",
       "      <td>2021-05-31</td>\n",
       "      <td>BridgewaterAssociates-2021q1.xml</td>\n",
       "    </tr>\n",
       "    <tr>\n",
       "      <th>3</th>\n",
       "      <td>0001037389</td>\n",
       "      <td>2021-05-01</td>\n",
       "      <td>2021-05-31</td>\n",
       "      <td>RENAISSANCE-2021q1.xml</td>\n",
       "    </tr>\n",
       "    <tr>\n",
       "      <th>4</th>\n",
       "      <td>0001179392</td>\n",
       "      <td>2021-05-01</td>\n",
       "      <td>2021-05-31</td>\n",
       "      <td>TwoSigma-2021q1.xml</td>\n",
       "    </tr>\n",
       "  </tbody>\n",
       "</table>\n",
       "</div>"
      ],
      "text/plain": [
       "          cik    fromDate      toDate                          filename\n",
       "0  0001067983  2021-05-01  2021-05-31   BerkshireHathawayInc-2021q1.xml\n",
       "1  0000019617  2021-05-01  2021-05-31               Jpmorgan-2021q1.xml\n",
       "2  0001350694  2021-05-01  2021-05-31  BridgewaterAssociates-2021q1.xml\n",
       "3  0001037389  2021-05-01  2021-05-31            RENAISSANCE-2021q1.xml\n",
       "4  0001179392  2021-05-01  2021-05-31               TwoSigma-2021q1.xml"
      ]
     },
     "execution_count": 21,
     "metadata": {},
     "output_type": "execute_result"
    }
   ],
   "source": [
    "\n",
    "xml_file_table=pd.DataFrame(get_xml_table(cik_list,fund_list,'2021-05-01','2021-05-31','-2021q1'))\n",
    "xml_file_table"
   ]
  },
  {
   "cell_type": "code",
   "execution_count": 22,
   "metadata": {},
   "outputs": [
    {
     "name": "stdout",
     "output_type": "stream",
     "text": [
      "BerkshireHathawayInc-2021q1.xml has been saved\n",
      "Jpmorgan-2021q1.xml has been saved\n",
      "BridgewaterAssociates-2021q1.xml has been saved\n",
      "RENAISSANCE-2021q1.xml has been saved\n",
      "TwoSigma-2021q1.xml has been saved\n"
     ]
    }
   ],
   "source": [
    " for i in range(xml_file_table.shape[0]):\n",
    "    xml_gather(xml_file_table['cik'][i],xml_file_table['fromDate'][i],xml_file_table['toDate'][i],xml_file_table['filename'][i])"
   ]
  },
  {
   "cell_type": "markdown",
   "metadata": {},
   "source": [
    "# Get files of 2020 Q4."
   ]
  },
  {
   "cell_type": "code",
   "execution_count": 23,
   "metadata": {},
   "outputs": [
    {
     "data": {
      "text/html": [
       "<div>\n",
       "<style scoped>\n",
       "    .dataframe tbody tr th:only-of-type {\n",
       "        vertical-align: middle;\n",
       "    }\n",
       "\n",
       "    .dataframe tbody tr th {\n",
       "        vertical-align: top;\n",
       "    }\n",
       "\n",
       "    .dataframe thead th {\n",
       "        text-align: right;\n",
       "    }\n",
       "</style>\n",
       "<table border=\"1\" class=\"dataframe\">\n",
       "  <thead>\n",
       "    <tr style=\"text-align: right;\">\n",
       "      <th></th>\n",
       "      <th>cik</th>\n",
       "      <th>fromDate</th>\n",
       "      <th>toDate</th>\n",
       "      <th>filename</th>\n",
       "    </tr>\n",
       "  </thead>\n",
       "  <tbody>\n",
       "    <tr>\n",
       "      <th>0</th>\n",
       "      <td>0001067983</td>\n",
       "      <td>2021-01-01</td>\n",
       "      <td>2021-02-28</td>\n",
       "      <td>BerkshireHathawayInc-2020q4.xml</td>\n",
       "    </tr>\n",
       "    <tr>\n",
       "      <th>1</th>\n",
       "      <td>0000019617</td>\n",
       "      <td>2021-01-01</td>\n",
       "      <td>2021-02-28</td>\n",
       "      <td>Jpmorgan-2020q4.xml</td>\n",
       "    </tr>\n",
       "    <tr>\n",
       "      <th>2</th>\n",
       "      <td>0001350694</td>\n",
       "      <td>2021-01-01</td>\n",
       "      <td>2021-02-28</td>\n",
       "      <td>BridgewaterAssociates-2020q4.xml</td>\n",
       "    </tr>\n",
       "    <tr>\n",
       "      <th>3</th>\n",
       "      <td>0001037389</td>\n",
       "      <td>2021-01-01</td>\n",
       "      <td>2021-02-28</td>\n",
       "      <td>RENAISSANCE-2020q4.xml</td>\n",
       "    </tr>\n",
       "    <tr>\n",
       "      <th>4</th>\n",
       "      <td>0001179392</td>\n",
       "      <td>2021-01-01</td>\n",
       "      <td>2021-02-28</td>\n",
       "      <td>TwoSigma-2020q4.xml</td>\n",
       "    </tr>\n",
       "  </tbody>\n",
       "</table>\n",
       "</div>"
      ],
      "text/plain": [
       "          cik    fromDate      toDate                          filename\n",
       "0  0001067983  2021-01-01  2021-02-28   BerkshireHathawayInc-2020q4.xml\n",
       "1  0000019617  2021-01-01  2021-02-28               Jpmorgan-2020q4.xml\n",
       "2  0001350694  2021-01-01  2021-02-28  BridgewaterAssociates-2020q4.xml\n",
       "3  0001037389  2021-01-01  2021-02-28            RENAISSANCE-2020q4.xml\n",
       "4  0001179392  2021-01-01  2021-02-28               TwoSigma-2020q4.xml"
      ]
     },
     "execution_count": 23,
     "metadata": {},
     "output_type": "execute_result"
    }
   ],
   "source": [
    "xml_file_table2020q4=pd.DataFrame(get_xml_table(cik_list,fund_list,'2021-01-01','2021-02-28','-2020q4'))\n",
    "xml_file_table2020q4"
   ]
  },
  {
   "cell_type": "code",
   "execution_count": 24,
   "metadata": {},
   "outputs": [
    {
     "name": "stdout",
     "output_type": "stream",
     "text": [
      "BerkshireHathawayInc-2020q4.xml has been saved\n",
      "Jpmorgan-2020q4.xml has been saved\n",
      "BridgewaterAssociates-2020q4.xml has been saved\n",
      "RENAISSANCE-2020q4.xml has been saved\n",
      "TwoSigma-2020q4.xml has been saved\n"
     ]
    }
   ],
   "source": [
    "for i in range(xml_file_table2020q4.shape[0]):\n",
    "    xml_gather(xml_file_table2020q4['cik'][i],xml_file_table2020q4['fromDate'][i],xml_file_table2020q4['toDate'][i],xml_file_table2020q4['filename'][i])"
   ]
  },
  {
   "cell_type": "code",
   "execution_count": null,
   "metadata": {},
   "outputs": [],
   "source": []
  }
 ],
 "metadata": {
  "kernelspec": {
   "display_name": "Python 3",
   "language": "python",
   "name": "python3"
  },
  "language_info": {
   "codemirror_mode": {
    "name": "ipython",
    "version": 3
   },
   "file_extension": ".py",
   "mimetype": "text/x-python",
   "name": "python",
   "nbconvert_exporter": "python",
   "pygments_lexer": "ipython3",
   "version": "3.8.5"
  }
 },
 "nbformat": 4,
 "nbformat_minor": 4
}
